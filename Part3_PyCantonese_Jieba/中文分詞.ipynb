{
 "cells": [
  {
   "cell_type": "code",
   "execution_count": null,
   "id": "e4bc5026",
   "metadata": {},
   "outputs": [],
   "source": [
    "!pip install pycantonese jieba requests pandas"
   ]
  },
  {
   "cell_type": "markdown",
   "id": "a58b3908",
   "metadata": {},
   "source": [
    "# Default"
   ]
  },
  {
   "cell_type": "code",
   "execution_count": 2,
   "id": "0e6c5ffd",
   "metadata": {},
   "outputs": [
    {
     "data": {
      "text/plain": [
       "['兒子', '生性', '病', '母', '倍感', '安慰']"
      ]
     },
     "execution_count": 2,
     "metadata": {},
     "output_type": "execute_result"
    }
   ],
   "source": [
    "import pycantonese\n",
    "\n",
    "pycantonese.segment(\"兒子生性病母倍感安慰\")"
   ]
  },
  {
   "cell_type": "code",
   "execution_count": 3,
   "id": "70b2ecb0",
   "metadata": {},
   "outputs": [
    {
     "name": "stderr",
     "output_type": "stream",
     "text": [
      "Building prefix dict from the default dictionary ...\n",
      "Dumping model to file cache /tmp/jieba.cache\n",
      "Loading model cost 0.730 seconds.\n",
      "Prefix dict has been built successfully.\n"
     ]
    },
    {
     "data": {
      "text/plain": [
       "['兒子生', '性病', '母', '倍感', '安慰']"
      ]
     },
     "execution_count": 3,
     "metadata": {},
     "output_type": "execute_result"
    }
   ],
   "source": [
    "import jieba\n",
    "\n",
    "[s for s in jieba.cut(\"兒子生性病母倍感安慰\")]"
   ]
  },
  {
   "cell_type": "markdown",
   "id": "c3beb4ae",
   "metadata": {},
   "source": [
    "# Customize Pycantonese Segmenter"
   ]
  },
  {
   "cell_type": "code",
   "execution_count": 4,
   "id": "66a5962f",
   "metadata": {},
   "outputs": [
    {
     "data": {
      "text/plain": [
       "['兒子', '生性', '病母', '倍感', '安慰']"
      ]
     },
     "execution_count": 4,
     "metadata": {},
     "output_type": "execute_result"
    }
   ],
   "source": [
    "from pycantonese.word_segmentation import Segmenter\n",
    "\n",
    "segmenter = Segmenter(allow={\"病母\"})\n",
    "pycantonese.segment(\"兒子生性病母倍感安慰\", cls=segmenter)"
   ]
  },
  {
   "cell_type": "markdown",
   "id": "12ff6432",
   "metadata": {},
   "source": [
    "# Customized Jieba by 粵典詞表使用頻率"
   ]
  },
  {
   "cell_type": "code",
   "execution_count": 5,
   "id": "331aa732",
   "metadata": {},
   "outputs": [],
   "source": [
    "import jieba\n",
    "import pandas as pd\n",
    "import requests\n",
    "import json"
   ]
  },
  {
   "cell_type": "code",
   "execution_count": 6,
   "id": "398dcfee",
   "metadata": {},
   "outputs": [],
   "source": [
    "def wget(url, encoding='utf8'):\n",
    "    r = requests.get(url)\n",
    "    r.raise_for_status()\n",
    "    return r.content.decode(encoding)\n",
    "\n",
    "def download_word_frequency():\n",
    "    data = wget(url='https://words.hk/faiman/analysis/existingwordcount.json')#粵典詞表使用頻率\n",
    "    return pd.DataFrame(json.loads(data), index=['count']).transpose() \\\n",
    "                .sort_values(by='count', ascending = False)\n",
    "    \n",
    "def save_word_frequency(df, filename):\n",
    "    with open(filename, \"w\") as file:\n",
    "        for word, row in df.iterrows():\n",
    "            if len(word) > 1:\n",
    "                file.write(f'{word.replace(\"*\",\"\")} {row[\"count\"]}\\n')"
   ]
  },
  {
   "cell_type": "code",
   "execution_count": 7,
   "id": "71d982e8",
   "metadata": {},
   "outputs": [
    {
     "data": {
      "text/plain": [
       "['兒子', '生性', '病母', '倍感', '安慰']"
      ]
     },
     "execution_count": 7,
     "metadata": {},
     "output_type": "execute_result"
    }
   ],
   "source": [
    "save_word_frequency(download_word_frequency(), \"粵典_userdict.txt\")\n",
    "\n",
    "jieba.load_userdict(\"粵典_userdict.txt\")\n",
    "\n",
    "[s for s in jieba.cut(\"兒子生性病母倍感安慰\")]"
   ]
  },
  {
   "cell_type": "markdown",
   "id": "2a46c4b7",
   "metadata": {},
   "source": [
    "# Other Examples"
   ]
  },
  {
   "cell_type": "code",
   "execution_count": 12,
   "id": "2358ba73",
   "metadata": {},
   "outputs": [
    {
     "name": "stdout",
     "output_type": "stream",
     "text": [
      "PyCantonese: ['又', '無', '珍珠', '又', '無', '波霸', '你', '點做', '生意', '架']\n",
      "      Jieba: ['又', '無', '珍珠', '又', '無波霸', '你點', '做生意', '架']\n",
      "--------------------------------------------------\n",
      "PyCantonese: ['我', '要', '波', '波', '波', '波', '波', '波', '波', '波', '波', '波', '波霸']\n",
      "      Jieba: ['我要', '波波波', '波波', '波波波', '波波波', '霸']\n",
      "--------------------------------------------------\n",
      "PyCantonese: ['就算', '你', '無', '你', '無', '你', '無', '你', '無', '珍珠奶茶']\n",
      "      Jieba: ['就算', '你', '無', '你', '無', '你', '無', '你', '無', '珍珠奶茶']\n",
      "--------------------------------------------------\n",
      "PyCantonese: ['咁', '你', '淨', '系', '俾', '波霸', '我', '都', '無所謂', '啦']\n",
      "      Jieba: ['咁', '你', '淨系', '俾', '波霸', '我', '都', '無', '所謂', '啦']\n",
      "--------------------------------------------------\n",
      "PyCantonese: ['油尖旺', '金毛', '玲', '最', '怕', '有', '閃電']\n",
      "      Jieba: ['油尖旺', '金毛', '玲', '最怕', '有', '閃電']\n",
      "--------------------------------------------------\n",
      "PyCantonese: ['再見', '不到', '也許', '人生', '少不免']\n",
      "      Jieba: ['再見', '不到', '也許', '人生', '少不免']\n",
      "--------------------------------------------------\n",
      "PyCantonese: ['金毛', '玲', '何事', '秋風', '悲', '畫', '扇']\n",
      "      Jieba: ['金毛', '玲', '何事', '秋風', '悲畫', '扇']\n",
      "--------------------------------------------------\n",
      "PyCantonese: ['房租', '必須', '是', '一次性', '交', '一年', '的']\n",
      "      Jieba: ['房租', '必須', '是', '一次性', '交', '一年', '的']\n",
      "--------------------------------------------------\n",
      "PyCantonese: ['為', '食', '女', '立志', '做', '醫生']\n",
      "      Jieba: ['為食', '女', '立志', '做', '醫生']\n",
      "--------------------------------------------------\n",
      "PyCantonese: ['梁', '烈', '唯', '封口', '交', '無線', '處理']\n",
      "      Jieba: ['梁烈', '唯封', '口交', '無線', '處理']\n",
      "--------------------------------------------------\n",
      "PyCantonese: ['獅子山下', '體現', '香港', '精神']\n",
      "      Jieba: ['獅子山', '下', '體現', '香港', '精神']\n",
      "--------------------------------------------------\n",
      "PyCantonese: ['我們', '中出', '了', '一個', '叛徒']\n",
      "      Jieba: ['我們', '中出', '了', '一個', '叛徒']\n",
      "--------------------------------------------------\n"
     ]
    }
   ],
   "source": [
    "examples = [\n",
    "    \"又無珍珠又無波霸你點做生意架\",\n",
    "    \"我要波波波波波波波波波波波霸\",\n",
    "    \"就算你無你無你無你無珍珠奶茶\",\n",
    "    \"咁你淨系俾波霸我都無所謂啦\",\n",
    "    \"油尖旺金毛玲最怕有閃電\",\n",
    "    \"再見不到也許人生少不免\",\n",
    "    \"金毛玲何事秋風悲畫扇\",\n",
    "    \"房租必須是一次性交一年的\",\n",
    "    \"為食女立志做醫生\",\n",
    "    \"梁烈唯封口交無線處理\",\n",
    "    \"獅子山下體現香港精神\",\n",
    "    \"我們中出了一個叛徒\"]\n",
    "\n",
    "for s in examples:\n",
    "    print(\"PyCantonese:\", pycantonese.segment(s))\n",
    "    print(\"      Jieba:\",[sg for sg in jieba.cut(s)])\n",
    "    print('-' * 50)\n"
   ]
  }
 ],
 "metadata": {
  "kernelspec": {
   "display_name": "Python 3 (ipykernel)",
   "language": "python",
   "name": "python3"
  },
  "language_info": {
   "codemirror_mode": {
    "name": "ipython",
    "version": 3
   },
   "file_extension": ".py",
   "mimetype": "text/x-python",
   "name": "python",
   "nbconvert_exporter": "python",
   "pygments_lexer": "ipython3",
   "version": "3.7.12"
  }
 },
 "nbformat": 4,
 "nbformat_minor": 5
}
