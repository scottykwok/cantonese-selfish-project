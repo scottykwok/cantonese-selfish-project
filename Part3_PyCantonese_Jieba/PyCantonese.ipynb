{
 "cells": [
  {
   "cell_type": "code",
   "execution_count": null,
   "id": "a01d5b51",
   "metadata": {},
   "outputs": [],
   "source": [
    "!pip install pycantonese"
   ]
  },
  {
   "cell_type": "code",
   "execution_count": 2,
   "id": "2f671126",
   "metadata": {},
   "outputs": [
    {
     "data": {
      "text/plain": [
       "[('知', 'zi1'), ('我', 'ngo5'), ('咩料', 'me1liu2'), ('啦', 'la1'), ('!', None)]"
      ]
     },
     "execution_count": 2,
     "metadata": {},
     "output_type": "execute_result"
    }
   ],
   "source": [
    "import pycantonese\n",
    "pycantonese.characters_to_jyutping(\"知我咩料啦!\")"
   ]
  },
  {
   "cell_type": "code",
   "execution_count": 3,
   "id": "15c7b36a",
   "metadata": {},
   "outputs": [
    {
     "data": {
      "text/plain": [
       "[Jyutping(onset='z', nucleus='i', coda='', tone='1'),\n",
       " Jyutping(onset='ng', nucleus='o', coda='', tone='5'),\n",
       " Jyutping(onset='m', nucleus='e', coda='', tone='1'),\n",
       " Jyutping(onset='l', nucleus='i', coda='u', tone='2'),\n",
       " Jyutping(onset='l', nucleus='a', coda='', tone='1')]"
      ]
     },
     "execution_count": 3,
     "metadata": {},
     "output_type": "execute_result"
    }
   ],
   "source": [
    " pycantonese.parse_jyutping('zi1ngo5me1liu2la1')"
   ]
  },
  {
   "cell_type": "code",
   "execution_count": 17,
   "id": "10dc6305",
   "metadata": {},
   "outputs": [
    {
     "data": {
      "text/plain": [
       "[Token(word='廣東話', pos='NZ', jyutping='gwong2dung1waa2', mor=None, gra=None),\n",
       " Token(word='廣東話', pos='NZ', jyutping='gwong2dung1waa2', mor=None, gra=None),\n",
       " Token(word='廣東話', pos='NZ', jyutping='gwong2dung1waa2', mor=None, gra=None),\n",
       " Token(word='廣東話', pos='N', jyutping='gwong2dung1waa2', mor=None, gra=None),\n",
       " Token(word='廣東話', pos='N', jyutping='gwong2dung1waa2', mor=None, gra=None),\n",
       " Token(word='廣東話', pos='NZ', jyutping='gwong2dung1waa2', mor=None, gra=None),\n",
       " Token(word='廣東話', pos='NZ', jyutping='gwong2dung1waa2', mor=None, gra=None),\n",
       " Token(word='廣東話', pos='NS', jyutping='gwong2dung1waa2', mor=None, gra=None)]"
      ]
     },
     "execution_count": 17,
     "metadata": {},
     "output_type": "execute_result"
    }
   ],
   "source": [
    "corpus = pycantonese.hkcancor() # get HKCanCor\n",
    "corpus.search(character='廣東話')"
   ]
  },
  {
   "cell_type": "code",
   "execution_count": 15,
   "id": "bc8b4f84",
   "metadata": {},
   "outputs": [
    {
     "data": {
      "text/plain": [
       "['知', '我', '咩料', '啦', '!']"
      ]
     },
     "execution_count": 15,
     "metadata": {},
     "output_type": "execute_result"
    }
   ],
   "source": [
    "pycantonese.segment(\"知我咩料啦!\")"
   ]
  }
 ],
 "metadata": {
  "kernelspec": {
   "display_name": "Python 3 (ipykernel)",
   "language": "python",
   "name": "python3"
  },
  "language_info": {
   "codemirror_mode": {
    "name": "ipython",
    "version": 3
   },
   "file_extension": ".py",
   "mimetype": "text/x-python",
   "name": "python",
   "nbconvert_exporter": "python",
   "pygments_lexer": "ipython3",
   "version": "3.7.12"
  }
 },
 "nbformat": 4,
 "nbformat_minor": 5
}
